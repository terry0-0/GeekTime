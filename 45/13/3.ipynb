{
 "cells": [
  {
   "cell_type": "code",
   "execution_count": 4,
   "metadata": {},
   "outputs": [
    {
     "name": "stdout",
     "output_type": "stream",
     "text": [
      "1.0\n",
      "[[ 0.  -0.3  0.1]\n",
      " [ 0.3  0.1  0.2]\n",
      " [ 0.   0.1 -0.1]]\n"
     ]
    }
   ],
   "source": [
    "#coding;utf-8\n",
    "from sklearn import preprocessing\n",
    "import numpy as np\n",
    "#初始化数据\n",
    "x = np.array([[0., -3., 1.],\n",
    "             [3., 1., 2.],\n",
    "             [0., 1., -1.]])\n",
    "#小数定标规范化\n",
    "j = np.ceil(np.log10(np.max(abs(x))))\n",
    "scaled_x = x/(10**j)\n",
    "print(j)\n",
    "print(scaled_x)"
   ]
  }
 ],
 "metadata": {
  "kernelspec": {
   "display_name": "Python 3",
   "language": "python",
   "name": "python3"
  },
  "language_info": {
   "codemirror_mode": {
    "name": "ipython",
    "version": 3
   },
   "file_extension": ".py",
   "mimetype": "text/x-python",
   "name": "python",
   "nbconvert_exporter": "python",
   "pygments_lexer": "ipython3",
   "version": "3.7.3"
  }
 },
 "nbformat": 4,
 "nbformat_minor": 2
}
