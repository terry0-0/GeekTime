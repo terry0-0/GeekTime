{
 "cells": [
  {
   "cell_type": "code",
   "execution_count": 2,
   "metadata": {},
   "outputs": [],
   "source": [
    "import numpy as np\n",
    "import pandas as pd"
   ]
  },
  {
   "cell_type": "code",
   "execution_count": 25,
   "metadata": {},
   "outputs": [
    {
     "name": "stdout",
     "output_type": "stream",
     "text": [
      "          food  ounces  animal\n",
      "0        bacon     4.0     pig\n",
      "1  pulled pork     3.0     pig\n",
      "2        bacon     NaN     pig\n",
      "3     Pastrami     6.0     cow\n",
      "4  corned beef     7.5     cow\n",
      "5        Bacon     8.0     pig\n",
      "6     pastrami    -3.0     cow\n",
      "7    honey ham     5.0     pig\n",
      "8     nova lox     6.0  salmon\n"
     ]
    }
   ],
   "source": [
    "df = pd.read_csv('11test.csv')\n",
    "print(df)"
   ]
  },
  {
   "cell_type": "code",
   "execution_count": 26,
   "metadata": {},
   "outputs": [
    {
     "name": "stdout",
     "output_type": "stream",
     "text": [
      "          food  ounces  animal\n",
      "0        bacon  4.0000     pig\n",
      "1  pulled pork  3.0000     pig\n",
      "2        bacon  4.5625     pig\n",
      "3     Pastrami  6.0000     cow\n",
      "4  corned beef  7.5000     cow\n",
      "5        Bacon  8.0000     pig\n",
      "6     pastrami -3.0000     cow\n",
      "7    honey ham  5.0000     pig\n",
      "8     nova lox  6.0000  salmon\n"
     ]
    }
   ],
   "source": [
    "# dump the NaN price(s)\n",
    "df['ounces'].fillna(df['ounces'].mean(),inplace=True)\n",
    "print(df)"
   ]
  },
  {
   "cell_type": "code",
   "execution_count": 27,
   "metadata": {},
   "outputs": [
    {
     "name": "stdout",
     "output_type": "stream",
     "text": [
      "          food  ounces  animal\n",
      "0        bacon  4.0000     pig\n",
      "1  pulled pork  3.0000     pig\n",
      "2        bacon  4.5625     pig\n",
      "3     Pastrami  6.0000     cow\n",
      "4  corned beef  7.5000     cow\n",
      "5        Bacon  8.0000     pig\n",
      "6     pastrami  3.0000     cow\n",
      "7    honey ham  5.0000     pig\n",
      "8     nova lox  6.0000  salmon\n"
     ]
    }
   ],
   "source": [
    "# correct the minus price(s)\n",
    "df['ounces'] = df['ounces'].abs()\n",
    "print(df)"
   ]
  },
  {
   "cell_type": "code",
   "execution_count": 28,
   "metadata": {},
   "outputs": [
    {
     "name": "stdout",
     "output_type": "stream",
     "text": [
      "          food  ounces  animal\n",
      "0        bacon  4.0000     pig\n",
      "1  pulled pork  3.0000     pig\n",
      "2        bacon  4.5625     pig\n",
      "3     pastrami  6.0000     cow\n",
      "4  corned beef  7.5000     cow\n",
      "5        bacon  8.0000     pig\n",
      "6     pastrami  3.0000     cow\n",
      "7    honey ham  5.0000     pig\n",
      "8     nova lox  6.0000  salmon\n"
     ]
    }
   ],
   "source": [
    "df['food'] = df['food'].str.lower()\n",
    "print(df)"
   ]
  },
  {
   "cell_type": "code",
   "execution_count": 37,
   "metadata": {},
   "outputs": [
    {
     "name": "stdout",
     "output_type": "stream",
     "text": [
      "                      ounces\n",
      "food        animal          \n",
      "bacon       pig     5.520833\n",
      "corned beef cow     7.500000\n",
      "honey ham   pig     5.000000\n",
      "nova lox    salmon  6.000000\n",
      "pastrami    cow     4.500000\n",
      "pulled pork pig     3.000000\n"
     ]
    }
   ],
   "source": [
    "# group by to merge the same food/animal\n",
    "print(df.groupby(['food', 'animal']).mean())"
   ]
  }
 ],
 "metadata": {
  "kernelspec": {
   "display_name": "Python 3",
   "language": "python",
   "name": "python3"
  },
  "language_info": {
   "codemirror_mode": {
    "name": "ipython",
    "version": 3
   },
   "file_extension": ".py",
   "mimetype": "text/x-python",
   "name": "python",
   "nbconvert_exporter": "python",
   "pygments_lexer": "ipython3",
   "version": "3.7.3"
  }
 },
 "nbformat": 4,
 "nbformat_minor": 2
}
